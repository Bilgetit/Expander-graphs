{
 "cells": [
  {
   "cell_type": "code",
   "execution_count": 1,
   "metadata": {},
   "outputs": [],
   "source": [
    "import sys\n",
    "import numpy as np\n",
    "import numpy.typing as npt\n",
    "import time as time\n",
    "from collections import deque\n",
    "from HashArray import HashableNdarray"
   ]
  },
  {
   "cell_type": "code",
   "execution_count": 14,
   "metadata": {},
   "outputs": [],
   "source": [
    "# Global params\n",
    "n = 3  # size of matrix\n",
    "p = 7  # Z/pZ\n",
    "# m = int(1E1)    # number of matrices to generate\n",
    "\n",
    "\n",
    "# Set which generates SL(n, Z) (n = 3). Use these as edges in the graph\n",
    "A_3 = (np.array([[1, 1, 0], [0, 1, 0], [0, 0, 1]])).view(HashableNdarray)\n",
    "Ai_3 = (np.array([[1, -1, 0], [0, 1, 0], [0, 0, 1]])).view(HashableNdarray)\n",
    "# Ai_3 = np.array([[1,2,0],[0,1,0],[0,0,1]])\n",
    "B_3 = (np.array([[0, 1, 0], [0, 0, 1], [1, 0, 0]])).view(HashableNdarray)\n",
    "Bi_3 = (np.array([[0, 0, 1], [1, 0, 0], [0, 1, 0]])).view(HashableNdarray)\n",
    "edges_3 = [A_3, Ai_3, B_3, Bi_3]\n",
    "\n",
    "A_2 = (np.array([[1, 1], [0, 1]])).view(HashableNdarray)\n",
    "Ai_2 = (np.array([[1, -1], [0, 1]])).view(HashableNdarray)\n",
    "B_2 = (np.array([[0, 1], [-1, 0]])).view(HashableNdarray)\n",
    "Bi_2 = (np.array([[0, -1], [1, 0]])).view(HashableNdarray)\n",
    "edges_2 = [A_2, Ai_2, B_2, Bi_2]"
   ]
  },
  {
   "cell_type": "code",
   "execution_count": 79,
   "metadata": {},
   "outputs": [],
   "source": [
    "def generate_set_bfs(s: set[npt.NDArray[np.int_]] = set(), n: int = 3, p: int = 11):\n",
    "    if n == 2:\n",
    "        edges = edges_2\n",
    "    if n == 3:\n",
    "        edges = edges_3\n",
    "\n",
    "    queue = deque(edges)\n",
    "    while queue:\n",
    "        x = queue.popleft()\n",
    "        for e in edges:\n",
    "            Xe = np.matmul(x, e)\n",
    "            Xe = Xe % p\n",
    "            if Xe not in s:\n",
    "                s.add(Xe)\n",
    "                queue.append(Xe)\n",
    "\n",
    "    return s"
   ]
  },
  {
   "cell_type": "code",
   "execution_count": 12,
   "metadata": {},
   "outputs": [],
   "source": [
    "def test_generate_set_bfs(s: set[npt.NDArray[np.int_]] = set(), n: int = 3, p: int = 11):\n",
    "    if n == 2:\n",
    "        edges = edges_2\n",
    "    if n == 3:\n",
    "        edges = edges_3\n",
    "\n",
    "    queue = deque(edges)\n",
    "    while queue:\n",
    "        x = queue.popleft()\n",
    "        Xes = np.matmul(x, edges)\n",
    "        Xes = Xes % p\n",
    "        for Xe in Xes:\n",
    "            if Xe not in s:\n",
    "                s.add(Xe)\n",
    "                queue.append(Xe)\n",
    "\n",
    "    return s"
   ]
  },
  {
   "cell_type": "code",
   "execution_count": null,
   "metadata": {},
   "outputs": [],
   "source": [
    "%timeit generate_set_bfs(n=2, p=7)"
   ]
  },
  {
   "cell_type": "code",
   "execution_count": null,
   "metadata": {},
   "outputs": [],
   "source": [
    "%timeit test_generate_set_bfs(n=2, p=7)"
   ]
  },
  {
   "cell_type": "code",
   "execution_count": 2,
   "metadata": {},
   "outputs": [],
   "source": [
    "%load_ext line_profiler"
   ]
  },
  {
   "cell_type": "code",
   "execution_count": 76,
   "metadata": {},
   "outputs": [
    {
     "name": "stdout",
     "output_type": "stream",
     "text": [
      "*** KeyboardInterrupt exception caught in code being profiled."
     ]
    },
    {
     "name": "stdout",
     "output_type": "stream",
     "text": [
      "Timer unit: 1e-06 s\n",
      "\n",
      "Total time: 8.94241 s\n",
      "File: /var/folders/gk/nd3wqtqx291b3hj52v6ll0qw0000gn/T/ipykernel_19630/2997984984.py\n",
      "Function: generate_set_bfs at line 1\n",
      "\n",
      "Line #      Hits         Time  Per Hit   % Time  Line Contents\n",
      "==============================================================\n",
      "     1                                           def generate_set_bfs(s: set[npt.NDArray[np.int_]] = set(), n: int = 3, p: int = 11):\n",
      "     2         1          1.0      1.0      0.0      if n == 2:\n",
      "     3                                                   edges = edges_2\n",
      "     4         1          0.0      0.0      0.0      if n == 3:\n",
      "     5         1          0.0      0.0      0.0          edges = edges_3\n",
      "     6                                           \n",
      "     7         1          1.0      1.0      0.0      queue = deque(edges)\n",
      "     8    286055      52789.0      0.2      0.6      while queue:\n",
      "     9    286055      66790.0      0.2      0.7          x = queue.popleft()\n",
      "    10   1430271     289236.0      0.2      3.2          for e in edges:\n",
      "    11   1144217    1771615.0      1.5     19.8              Xe = np.matmul(x, e)\n",
      "    12   1144216    1320893.0      1.2     14.8              Xe = Xe % p\n",
      "    13   1144216    5162835.0      4.5     57.7              if Xe not in s:\n",
      "    14    353982     198468.0      0.6      2.2                  s.add(Xe)\n",
      "    15    353982      79778.0      0.2      0.9                  queue.append(Xe)\n",
      "    16                                           \n",
      "    17                                               return s"
     ]
    }
   ],
   "source": [
    "%lprun -f generate_set_bfs generate_set_bfs(n=3, p=5)"
   ]
  },
  {
   "cell_type": "code",
   "execution_count": null,
   "metadata": {},
   "outputs": [],
   "source": [
    "%lprun -f test_generate_set_bfs test_generate_set_bfs(n=3, p=5)"
   ]
  },
  {
   "cell_type": "code",
   "execution_count": null,
   "metadata": {},
   "outputs": [],
   "source": [
    "test_A = np.asarray(A_2)\n",
    "print(tuple(test_A))\n",
    "a = set()\n",
    "a.add(tuple(test_A))"
   ]
  },
  {
   "cell_type": "code",
   "execution_count": 3,
   "metadata": {},
   "outputs": [],
   "source": [
    "from numba import jit\n",
    "\n",
    "@jit(nopython=True)\n",
    "def is_not_in_set(Xe_tup: tuple, s: set) -> bool:\n",
    "    return Xe_tup not in s"
   ]
  },
  {
   "cell_type": "code",
   "execution_count": 16,
   "metadata": {},
   "outputs": [],
   "source": [
    "def tuple_generate_set_bfs(s: set[tuple] = set(), n: int = 3, p: int = 11):\n",
    "    if n == 2:\n",
    "        A_2 = np.array([[1, 1], [0, 1]])\n",
    "        Ai_2 = np.array([[1, -1], [0, 1]])\n",
    "        B_2 = np.array([[0, 1], [-1, 0]])\n",
    "        Bi_2 = np.array([[0, -1], [1, 0]])\n",
    "        edges_2 = np.array([A_2, Ai_2, B_2, Bi_2])\n",
    "        edges = edges_2\n",
    "        # s.add((0 for i in range(4)))\n",
    "    if n == 3:\n",
    "        A_3 = np.array([[1, 1, 0], [0, 1, 0], [0, 0, 1]])\n",
    "        Ai_3 = np.array([[1, -1, 0], [0, 1, 0], [0, 0, 1]])\n",
    "        # Ai_3 = np.array([[1,2,0],[0,1,0],[0,0,1]])\n",
    "        B_3 = np.array([[0, 1, 0], [0, 0, 1], [1, 0, 0]])\n",
    "        Bi_3 = np.array([[0, 0, 1], [1, 0, 0], [0, 1, 0]])\n",
    "        edges_3 = np.array([A_3, Ai_3, B_3, Bi_3])\n",
    "\n",
    "        edges = edges_3\n",
    "        # s.add(tuple([0 for i in range(9)]))\n",
    "\n",
    "    queue = deque(edges)\n",
    "\n",
    "    while queue:\n",
    "        x = queue.popleft()\n",
    "        Xes = np.matmul(x, edges)\n",
    "        Xes = Xes % p\n",
    "        for Xe in Xes:\n",
    "            Xe_tup = tuple(np.ravel(Xe))\n",
    "            if Xe_tup not in s:\n",
    "                s.add(Xe_tup)\n",
    "                queue.append(Xe)\n",
    "\n",
    "    return s"
   ]
  },
  {
   "cell_type": "code",
   "execution_count": 18,
   "metadata": {},
   "outputs": [
    {
     "name": "stdout",
     "output_type": "stream",
     "text": [
      "Timer unit: 1e-06 s\n",
      "\n",
      "Total time: 0.020867 s\n",
      "File: /var/folders/gk/nd3wqtqx291b3hj52v6ll0qw0000gn/T/ipykernel_24679/1293292961.py\n",
      "Function: tuple_generate_set_bfs at line 1\n",
      "\n",
      "Line #      Hits         Time  Per Hit   % Time  Line Contents\n",
      "==============================================================\n",
      "     1                                           def tuple_generate_set_bfs(s: set[tuple] = set(), n: int = 3, p: int = 11):\n",
      "     2         1          2.0      2.0      0.0      if n == 2:\n",
      "     3         1         13.0     13.0      0.1          A_2 = np.array([[1, 1], [0, 1]])\n",
      "     4         1          2.0      2.0      0.0          Ai_2 = np.array([[1, -1], [0, 1]])\n",
      "     5         1          2.0      2.0      0.0          B_2 = np.array([[0, 1], [-1, 0]])\n",
      "     6         1          2.0      2.0      0.0          Bi_2 = np.array([[0, -1], [1, 0]])\n",
      "     7         1         13.0     13.0      0.1          edges_2 = np.array([A_2, Ai_2, B_2, Bi_2])\n",
      "     8         1          0.0      0.0      0.0          edges = edges_2\n",
      "     9                                                   # s.add((0 for i in range(4)))\n",
      "    10         1          0.0      0.0      0.0      if n == 3:\n",
      "    11                                                   A_3 = np.array([[1, 1, 0], [0, 1, 0], [0, 0, 1]])\n",
      "    12                                                   Ai_3 = np.array([[1, -1, 0], [0, 1, 0], [0, 0, 1]])\n",
      "    13                                                   # Ai_3 = np.array([[1,2,0],[0,1,0],[0,0,1]])\n",
      "    14                                                   B_3 = np.array([[0, 1, 0], [0, 0, 1], [1, 0, 0]])\n",
      "    15                                                   Bi_3 = np.array([[0, 0, 1], [1, 0, 0], [0, 1, 0]])\n",
      "    16                                                   edges_3 = np.array([A_3, Ai_3, B_3, Bi_3])\n",
      "    17                                           \n",
      "    18                                                   edges = edges_3\n",
      "    19                                                   # s.add(tuple([0 for i in range(9)]))\n",
      "    20                                           \n",
      "    21         1          7.0      7.0      0.0      queue = deque(edges)\n",
      "    22                                           \n",
      "    23      1325        483.0      0.4      2.3      while queue:\n",
      "    24      1324        649.0      0.5      3.1          x = queue.popleft()\n",
      "    25      1324       1486.0      1.1      7.1          Xes = np.matmul(x, edges)\n",
      "    26      1324       1290.0      1.0      6.2          Xes = Xes % p\n",
      "    27      6620       3399.0      0.5     16.3          for Xe in Xes:\n",
      "    28      5296       9418.0      1.8     45.1              Xe_tup = tuple(np.ravel(Xe))\n",
      "    29      5296       2567.0      0.5     12.3              if Xe_tup not in s:\n",
      "    30      1320        961.0      0.7      4.6                  s.add(Xe_tup)\n",
      "    31      1320        573.0      0.4      2.7                  queue.append(Xe)\n",
      "    32                                           \n",
      "    33         1          0.0      0.0      0.0      return s"
     ]
    }
   ],
   "source": [
    "%lprun -f tuple_generate_set_bfs tuple_generate_set_bfs(set(), n=2, p=11)"
   ]
  },
  {
   "cell_type": "code",
   "execution_count": 15,
   "metadata": {},
   "outputs": [
    {
     "name": "stdout",
     "output_type": "stream",
     "text": [
      "Timer unit: 1e-06 s\n",
      "\n",
      "Total time: 0.012878 s\n",
      "File: /var/folders/gk/nd3wqtqx291b3hj52v6ll0qw0000gn/T/ipykernel_24679/278545838.py\n",
      "Function: test_generate_set_bfs at line 1\n",
      "\n",
      "Line #      Hits         Time  Per Hit   % Time  Line Contents\n",
      "==============================================================\n",
      "     1                                           def test_generate_set_bfs(s: set[npt.NDArray[np.int_]] = set(), n: int = 3, p: int = 11):\n",
      "     2         1          1.0      1.0      0.0      if n == 2:\n",
      "     3         1          0.0      0.0      0.0          edges = edges_2\n",
      "     4         1          0.0      0.0      0.0      if n == 3:\n",
      "     5                                                   edges = edges_3\n",
      "     6                                           \n",
      "     7         1          1.0      1.0      0.0      queue = deque(edges)\n",
      "     8       341         90.0      0.3      0.7      while queue:\n",
      "     9       340        110.0      0.3      0.9          x = queue.popleft()\n",
      "    10       340       2604.0      7.7     20.2          Xes = np.matmul(x, edges)\n",
      "    11       340        636.0      1.9      4.9          Xes = Xes % p\n",
      "    12      1700        892.0      0.5      6.9          for Xe in Xes:\n",
      "    13      1360       8185.0      6.0     63.6              if Xe not in s:\n",
      "    14       336        259.0      0.8      2.0                  s.add(Xe)\n",
      "    15       336        100.0      0.3      0.8                  queue.append(Xe)\n",
      "    16                                           \n",
      "    17         1          0.0      0.0      0.0      return s"
     ]
    }
   ],
   "source": [
    "%lprun -f test_generate_set_bfs test_generate_set_bfs(set(), n=2, p=7)\n"
   ]
  },
  {
   "cell_type": "code",
   "execution_count": null,
   "metadata": {},
   "outputs": [],
   "source": []
  }
 ],
 "metadata": {
  "kernelspec": {
   "display_name": "base",
   "language": "python",
   "name": "python3"
  },
  "language_info": {
   "codemirror_mode": {
    "name": "ipython",
    "version": 3
   },
   "file_extension": ".py",
   "mimetype": "text/x-python",
   "name": "python",
   "nbconvert_exporter": "python",
   "pygments_lexer": "ipython3",
   "version": "3.9.13"
  },
  "orig_nbformat": 4
 },
 "nbformat": 4,
 "nbformat_minor": 2
}
